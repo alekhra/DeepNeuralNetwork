{
 "cells": [
  {
   "cell_type": "code",
   "execution_count": 1,
   "metadata": {
    "collapsed": true
   },
   "outputs": [],
   "source": [
    "import numpy as np\n",
    "import matplotlib.pyplot as plt"
   ]
  },
  {
   "cell_type": "code",
   "execution_count": 2,
   "metadata": {
    "collapsed": true
   },
   "outputs": [],
   "source": [
    "def data_01(time,samples=1):\n",
    "    time = np.tile(time,(samples,1)).T\n",
    "    return np.sin(2*np.pi*10*time)"
   ]
  },
  {
   "cell_type": "code",
   "execution_count": 3,
   "metadata": {},
   "outputs": [],
   "source": [
    "def data_02(time,samples=1):\n",
    "    time = np.tile(time,(samples,1)).T\n",
    "    return np.sin(2*np.pi*8*time) + np.random.normal(loc=0,scale=0.05,size=time.shape)"
   ]
  },
  {
   "cell_type": "code",
   "execution_count": 4,
   "metadata": {
    "collapsed": true
   },
   "outputs": [],
   "source": [
    "def model_01(time,samples=1):\n",
    "    time = np.tile(time,(samples,1)).T\n",
    "    return np.sin(2*np.pi*10*time)"
   ]
  },
  {
   "cell_type": "code",
   "execution_count": 5,
   "metadata": {
    "collapsed": true
   },
   "outputs": [],
   "source": [
    "def model_02(time,samples=1):\n",
    "    time = np.tile(time,(samples,1)).T\n",
    "    return np.sin(2*np.pi*10*time) + np.random.normal(loc=0,scale=0.01,size=time.shape)"
   ]
  },
  {
   "cell_type": "code",
   "execution_count": 6,
   "metadata": {
    "collapsed": true
   },
   "outputs": [],
   "source": [
    "def model_03(time,samples=1):\n",
    "    time = np.tile(time,(samples,1)).T\n",
    "    return np.sin(2*np.pi*10*time) + np.random.normal(loc=0,scale=0.3,size=time.shape)"
   ]
  },
  {
   "cell_type": "code",
   "execution_count": 7,
   "metadata": {
    "collapsed": true
   },
   "outputs": [],
   "source": [
    "def model_04(time,samples=1):\n",
    "    time = np.tile(time,(samples,1)).T\n",
    "    return np.sin(2*np.pi*10*time)+ 1 + np.random.normal(loc=0,scale=0.01,size=time.shape)"
   ]
  },
  {
   "cell_type": "code",
   "execution_count": 8,
   "metadata": {
    "collapsed": true
   },
   "outputs": [],
   "source": [
    "def model_05(time,samples=1):\n",
    "    time = np.tile(time,(samples,1)).T\n",
    "    return np.sin(2*np.pi*10*time) + 1 + np.random.normal(loc=0,scale=0.3,size=time.shape)"
   ]
  },
  {
   "cell_type": "code",
   "execution_count": 9,
   "metadata": {
    "collapsed": true
   },
   "outputs": [],
   "source": [
    "def model_06(time,samples=1):\n",
    "    time = np.tile(time,(samples,1)).T\n",
    "    return np.sin(2*np.pi*8*time) + 0.05"
   ]
  },
  {
   "cell_type": "code",
   "execution_count": 10,
   "metadata": {
    "collapsed": true
   },
   "outputs": [],
   "source": [
    "def model_07(time,samples=1):\n",
    "    time = np.tile(time,(samples,1)).T\n",
    "    return np.sin(2*np.pi*8*time)"
   ]
  },
  {
   "cell_type": "code",
   "execution_count": 11,
   "metadata": {
    "collapsed": true
   },
   "outputs": [],
   "source": [
    "def model_08(time,samples=1):\n",
    "    time = np.tile(time,(samples,1)).T\n",
    "    return np.sin(2*np.pi*8*time) + np.random.normal(loc=0,scale=0.01,size=time.shape)"
   ]
  },
  {
   "cell_type": "code",
   "execution_count": 12,
   "metadata": {
    "collapsed": true
   },
   "outputs": [],
   "source": [
    "def model_09(time,samples=1):\n",
    "    time = np.tile(time,(samples,1)).T\n",
    "    return np.sin(2*np.pi*8*time) + np.random.normal(loc=0,scale=0.05,size=time.shape)"
   ]
  },
  {
   "cell_type": "code",
   "execution_count": 13,
   "metadata": {
    "collapsed": true
   },
   "outputs": [],
   "source": [
    "def model_10(time,samples=1):\n",
    "    time = np.tile(time,(samples,1)).T\n",
    "    return np.sin(2*np.pi*8*time) + np.random.normal(loc=0,scale=0.3,size=time.shape)"
   ]
  },
  {
   "cell_type": "code",
   "execution_count": 14,
   "metadata": {
    "collapsed": true
   },
   "outputs": [],
   "source": [
    "def model_11(time,samples=1):\n",
    "    time = np.tile(time,(samples,1)).T\n",
    "    return np.sin(2*np.pi*8*time) + 1.5 + np.random.normal(loc=0,scale=0.01,size=time.shape)"
   ]
  },
  {
   "cell_type": "code",
   "execution_count": 15,
   "metadata": {
    "collapsed": true
   },
   "outputs": [],
   "source": [
    "def model_12(time,samples=1):\n",
    "    time = np.tile(time,(samples,1)).T\n",
    "    return np.sin(2*np.pi*8*time) - 1.5 + np.random.normal(loc=0,scale=0.05,size=time.shape)"
   ]
  },
  {
   "cell_type": "code",
   "execution_count": 16,
   "metadata": {
    "collapsed": true
   },
   "outputs": [],
   "source": [
    "def model_13(time,samples=1):\n",
    "    time = np.tile(time,(samples,1)).T\n",
    "    return np.sin(2*np.pi*8*time) + 1.5 + np.random.normal(loc=0,scale=0.3,size=time.shape)"
   ]
  },
  {
   "cell_type": "code",
   "execution_count": 17,
   "metadata": {},
   "outputs": [
    {
     "name": "stdout",
     "output_type": "stream",
     "text": [
      "(100,)\n"
     ]
    }
   ],
   "source": [
    "time = np.arange(0,1,0.01)\n",
    "print(time.shape)"
   ]
  },
  {
   "cell_type": "code",
   "execution_count": 18,
   "metadata": {},
   "outputs": [],
   "source": [
    "data_example_010 = data_01(time,samples=1)\n",
    "data_example_011 = data_01(time,samples=20)"
   ]
  },
  {
   "cell_type": "code",
   "execution_count": 19,
   "metadata": {},
   "outputs": [
    {
     "name": "stdout",
     "output_type": "stream",
     "text": [
      "(100, 1)\n",
      "(100, 20)\n"
     ]
    }
   ],
   "source": [
    "print(data_example_010.shape)\n",
    "print(data_example_011.shape)"
   ]
  },
  {
   "cell_type": "code",
   "execution_count": 20,
   "metadata": {},
   "outputs": [
    {
     "data": {
      "image/png": "[encoded data removed]",
      "text/plain": [
       "<Figure size 432x288 with 1 Axes>"
      ]
     },
     "metadata": {},
     "output_type": "display_data"
    }
   ],
   "source": [
    "plt.figure()\n",
    "plt.plot(time,data_01(time,samples=2),color='blue')\n",
    "plt.plot(time,model_05(time,samples=100),color='red')\n",
    "plt.show()"
   ]
  }
 ],
 "metadata": {
  "kernelspec": {
   "display_name": "Python 3",
   "language": "python",
   "name": "python3"
  },
  "language_info": {
   "codemirror_mode": {
    "name": "ipython",
    "version": 3
   },
   "file_extension": ".py",
   "mimetype": "text/x-python",
   "name": "python",
   "nbconvert_exporter": "python",
   "pygments_lexer": "ipython3",
   "version": "3.7.4"
  }
 },
 "nbformat": 4,
 "nbformat_minor": 2
}
